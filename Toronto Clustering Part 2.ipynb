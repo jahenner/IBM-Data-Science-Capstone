{
    "cells": [
        {
            "cell_type": "code",
            "execution_count": 51,
            "metadata": {},
            "outputs": [
                {
                    "name": "stdout",
                    "output_type": "stream",
                    "text": "Requirement already satisfied: geopy in /opt/conda/envs/Python-3.7-main/lib/python3.7/site-packages (2.0.0)\nRequirement already satisfied: geographiclib<2,>=1.49 in /opt/conda/envs/Python-3.7-main/lib/python3.7/site-packages (from geopy) (1.50)\n"
                }
            ],
            "source": "import pandas as pd\npd.set_option('display.max_columns', None)\npd.set_option('display.max_rows', None)\n\n#!pip install geocoder\nimport geocoder\n\n#!pip install geopy\nfrom geopy.geocoders import Nominatim\n\nimport time"
        },
        {
            "cell_type": "markdown",
            "metadata": {},
            "source": "Read in the table from the wikipedia page"
        },
        {
            "cell_type": "code",
            "execution_count": 19,
            "metadata": {},
            "outputs": [
                {
                    "data": {
                        "text/html": "<div>\n<style scoped>\n    .dataframe tbody tr th:only-of-type {\n        vertical-align: middle;\n    }\n\n    .dataframe tbody tr th {\n        vertical-align: top;\n    }\n\n    .dataframe thead th {\n        text-align: right;\n    }\n</style>\n<table border=\"1\" class=\"dataframe\">\n  <thead>\n    <tr style=\"text-align: right;\">\n      <th></th>\n      <th>Postal Code</th>\n      <th>Borough</th>\n      <th>Neighbourhood</th>\n    </tr>\n  </thead>\n  <tbody>\n    <tr>\n      <th>0</th>\n      <td>M1A</td>\n      <td>Not assigned</td>\n      <td>Not assigned</td>\n    </tr>\n    <tr>\n      <th>1</th>\n      <td>M2A</td>\n      <td>Not assigned</td>\n      <td>Not assigned</td>\n    </tr>\n    <tr>\n      <th>2</th>\n      <td>M3A</td>\n      <td>North York</td>\n      <td>Parkwoods</td>\n    </tr>\n    <tr>\n      <th>3</th>\n      <td>M4A</td>\n      <td>North York</td>\n      <td>Victoria Village</td>\n    </tr>\n    <tr>\n      <th>4</th>\n      <td>M5A</td>\n      <td>Downtown Toronto</td>\n      <td>Regent Park, Harbourfront</td>\n    </tr>\n  </tbody>\n</table>\n</div>",
                        "text/plain": "  Postal Code           Borough              Neighbourhood\n0         M1A      Not assigned               Not assigned\n1         M2A      Not assigned               Not assigned\n2         M3A        North York                  Parkwoods\n3         M4A        North York           Victoria Village\n4         M5A  Downtown Toronto  Regent Park, Harbourfront"
                    },
                    "execution_count": 19,
                    "metadata": {},
                    "output_type": "execute_result"
                }
            ],
            "source": "url = 'http://en.wikipedia.org/wiki/List_of_postal_codes_of_Canada:_M'\ndf = pd.read_html(url)\ndf = df[0]\ndf.head()"
        },
        {
            "cell_type": "markdown",
            "metadata": {},
            "source": "Remove all rows without an assigned Borough"
        },
        {
            "cell_type": "code",
            "execution_count": 24,
            "metadata": {},
            "outputs": [
                {
                    "data": {
                        "text/html": "<div>\n<style scoped>\n    .dataframe tbody tr th:only-of-type {\n        vertical-align: middle;\n    }\n\n    .dataframe tbody tr th {\n        vertical-align: top;\n    }\n\n    .dataframe thead th {\n        text-align: right;\n    }\n</style>\n<table border=\"1\" class=\"dataframe\">\n  <thead>\n    <tr style=\"text-align: right;\">\n      <th></th>\n      <th>Postal Code</th>\n      <th>Borough</th>\n      <th>Neighbourhood</th>\n    </tr>\n  </thead>\n  <tbody>\n    <tr>\n      <th>2</th>\n      <td>M3A</td>\n      <td>North York</td>\n      <td>Parkwoods</td>\n    </tr>\n    <tr>\n      <th>3</th>\n      <td>M4A</td>\n      <td>North York</td>\n      <td>Victoria Village</td>\n    </tr>\n    <tr>\n      <th>4</th>\n      <td>M5A</td>\n      <td>Downtown Toronto</td>\n      <td>Regent Park, Harbourfront</td>\n    </tr>\n    <tr>\n      <th>5</th>\n      <td>M6A</td>\n      <td>North York</td>\n      <td>Lawrence Manor, Lawrence Heights</td>\n    </tr>\n    <tr>\n      <th>6</th>\n      <td>M7A</td>\n      <td>Downtown Toronto</td>\n      <td>Queen's Park, Ontario Provincial Government</td>\n    </tr>\n  </tbody>\n</table>\n</div>",
                        "text/plain": "  Postal Code           Borough                                Neighbourhood\n2         M3A        North York                                    Parkwoods\n3         M4A        North York                             Victoria Village\n4         M5A  Downtown Toronto                    Regent Park, Harbourfront\n5         M6A        North York             Lawrence Manor, Lawrence Heights\n6         M7A  Downtown Toronto  Queen's Park, Ontario Provincial Government"
                    },
                    "execution_count": 24,
                    "metadata": {},
                    "output_type": "execute_result"
                }
            ],
            "source": "df.drop(df[df['Borough'] == 'Not assigned'].index, 0, inplace=True)\ndf.head()"
        },
        {
            "cell_type": "markdown",
            "metadata": {},
            "source": "Shape of the dataframe"
        },
        {
            "cell_type": "code",
            "execution_count": 33,
            "metadata": {},
            "outputs": [
                {
                    "data": {
                        "text/plain": "(103, 3)"
                    },
                    "execution_count": 33,
                    "metadata": {},
                    "output_type": "execute_result"
                }
            ],
            "source": "df.shape"
        },
        {
            "cell_type": "markdown",
            "metadata": {},
            "source": "Attempted using gelocator to get the Latitude and Longitude of each Postal Code. It would get the first one then infinite loop the second one"
        },
        {
            "cell_type": "code",
            "execution_count": 54,
            "metadata": {},
            "outputs": [
                {
                    "data": {
                        "text/plain": "'geolocator = Nominatim(user_agent=\"ny_explorer\")\\npostal_codes = df[\\'Postal Code\\'].tolist()\\nlatitudes = []\\nlongitudes = []\\nfor i, postal_code in enumerate(postal_codes):\\n    # initialize your variable to None\\n    print(f\\'--Getting Postal Code: {postal_code}\\')\\n    g = None\\n    count = 0\\n    while g == None:\\n        \\n        g = geolocator.geocode(f\\'{postal_code}, Toronto, Ontario\\')\\n        count += 1\\n        if count % 5 == 0:\\n            print(f\\'Attempt {count} for {postal_code}\\')\\n            time.sleep(5)\\n    \\n    print(f\\'Postal Code {postal_code} has been retrieved. {len(postal_codes) - (i + 1)} codes left\\n\\')\\n    latitudes.append(g.latitude)\\n    longitudes.append(g.longitude)\\n    time.sleep(10)'"
                    },
                    "execution_count": 54,
                    "metadata": {},
                    "output_type": "execute_result"
                }
            ],
            "source": "'''geolocator = Nominatim(user_agent=\"ny_explorer\")\npostal_codes = df['Postal Code'].tolist()\nlatitudes = []\nlongitudes = []\nfor i, postal_code in enumerate(postal_codes):\n    # initialize your variable to None\n    print(f'--Getting Postal Code: {postal_code}')\n    g = None\n    count = 0\n    while g == None:\n        \n        g = geolocator.geocode(f'{postal_code}, Toronto, Ontario')\n        count += 1\n        if count % 5 == 0:\n            print(f'Attempt {count} for {postal_code}')\n            time.sleep(5)\n    \n    print(f'Postal Code {postal_code} has been retrieved. {len(postal_codes) - (i + 1)} codes left\\n')\n    latitudes.append(g.latitude)\n    longitudes.append(g.longitude)\n    time.sleep(10)'''\n"
        },
        {
            "cell_type": "code",
            "execution_count": 55,
            "metadata": {},
            "outputs": [
                {
                    "data": {
                        "text/html": "<div>\n<style scoped>\n    .dataframe tbody tr th:only-of-type {\n        vertical-align: middle;\n    }\n\n    .dataframe tbody tr th {\n        vertical-align: top;\n    }\n\n    .dataframe thead th {\n        text-align: right;\n    }\n</style>\n<table border=\"1\" class=\"dataframe\">\n  <thead>\n    <tr style=\"text-align: right;\">\n      <th></th>\n      <th>Postal Code</th>\n      <th>Latitude</th>\n      <th>Longitude</th>\n    </tr>\n  </thead>\n  <tbody>\n    <tr>\n      <th>0</th>\n      <td>M1B</td>\n      <td>43.806686</td>\n      <td>-79.194353</td>\n    </tr>\n    <tr>\n      <th>1</th>\n      <td>M1C</td>\n      <td>43.784535</td>\n      <td>-79.160497</td>\n    </tr>\n    <tr>\n      <th>2</th>\n      <td>M1E</td>\n      <td>43.763573</td>\n      <td>-79.188711</td>\n    </tr>\n    <tr>\n      <th>3</th>\n      <td>M1G</td>\n      <td>43.770992</td>\n      <td>-79.216917</td>\n    </tr>\n    <tr>\n      <th>4</th>\n      <td>M1H</td>\n      <td>43.773136</td>\n      <td>-79.239476</td>\n    </tr>\n  </tbody>\n</table>\n</div>",
                        "text/plain": "  Postal Code   Latitude  Longitude\n0         M1B  43.806686 -79.194353\n1         M1C  43.784535 -79.160497\n2         M1E  43.763573 -79.188711\n3         M1G  43.770992 -79.216917\n4         M1H  43.773136 -79.239476"
                    },
                    "execution_count": 55,
                    "metadata": {},
                    "output_type": "execute_result"
                }
            ],
            "source": "latlong = pd.read_csv('https://cocl.us/Geospatial_data')\nlatlong.head()"
        },
        {
            "cell_type": "code",
            "execution_count": 57,
            "metadata": {},
            "outputs": [
                {
                    "data": {
                        "text/html": "<div>\n<style scoped>\n    .dataframe tbody tr th:only-of-type {\n        vertical-align: middle;\n    }\n\n    .dataframe tbody tr th {\n        vertical-align: top;\n    }\n\n    .dataframe thead th {\n        text-align: right;\n    }\n</style>\n<table border=\"1\" class=\"dataframe\">\n  <thead>\n    <tr style=\"text-align: right;\">\n      <th></th>\n      <th>Postal Code</th>\n      <th>Borough</th>\n      <th>Neighbourhood</th>\n      <th>Latitude</th>\n      <th>Longitude</th>\n    </tr>\n  </thead>\n  <tbody>\n    <tr>\n      <th>0</th>\n      <td>M3A</td>\n      <td>North York</td>\n      <td>Parkwoods</td>\n      <td>43.753259</td>\n      <td>-79.329656</td>\n    </tr>\n    <tr>\n      <th>1</th>\n      <td>M4A</td>\n      <td>North York</td>\n      <td>Victoria Village</td>\n      <td>43.725882</td>\n      <td>-79.315572</td>\n    </tr>\n    <tr>\n      <th>2</th>\n      <td>M5A</td>\n      <td>Downtown Toronto</td>\n      <td>Regent Park, Harbourfront</td>\n      <td>43.654260</td>\n      <td>-79.360636</td>\n    </tr>\n    <tr>\n      <th>3</th>\n      <td>M6A</td>\n      <td>North York</td>\n      <td>Lawrence Manor, Lawrence Heights</td>\n      <td>43.718518</td>\n      <td>-79.464763</td>\n    </tr>\n    <tr>\n      <th>4</th>\n      <td>M7A</td>\n      <td>Downtown Toronto</td>\n      <td>Queen's Park, Ontario Provincial Government</td>\n      <td>43.662301</td>\n      <td>-79.389494</td>\n    </tr>\n  </tbody>\n</table>\n</div>",
                        "text/plain": "  Postal Code           Borough                                Neighbourhood  \\\n0         M3A        North York                                    Parkwoods   \n1         M4A        North York                             Victoria Village   \n2         M5A  Downtown Toronto                    Regent Park, Harbourfront   \n3         M6A        North York             Lawrence Manor, Lawrence Heights   \n4         M7A  Downtown Toronto  Queen's Park, Ontario Provincial Government   \n\n    Latitude  Longitude  \n0  43.753259 -79.329656  \n1  43.725882 -79.315572  \n2  43.654260 -79.360636  \n3  43.718518 -79.464763  \n4  43.662301 -79.389494  "
                    },
                    "execution_count": 57,
                    "metadata": {},
                    "output_type": "execute_result"
                }
            ],
            "source": "new_df = pd.merge(df, latlong, 'left', 'Postal Code')\nnew_df.head()"
        },
        {
            "cell_type": "code",
            "execution_count": null,
            "metadata": {},
            "outputs": [],
            "source": ""
        }
    ],
    "metadata": {
        "kernelspec": {
            "display_name": "Python 3.7",
            "language": "python",
            "name": "python3"
        },
        "language_info": {
            "codemirror_mode": {
                "name": "ipython",
                "version": 3
            },
            "file_extension": ".py",
            "mimetype": "text/x-python",
            "name": "python",
            "nbconvert_exporter": "python",
            "pygments_lexer": "ipython3",
            "version": "3.7.9"
        }
    },
    "nbformat": 4,
    "nbformat_minor": 1
}